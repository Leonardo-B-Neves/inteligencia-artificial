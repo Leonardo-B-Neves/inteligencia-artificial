import pprint

def fatorial(n:int):
    if n == 0:
        return 1
    else:
        return n * fatorial(n-1)

def imprimeMinimo(valor):
    moedas1 = 0
    moedas0_50 = 0
    moedas0_25 = 0
    moedas0_10 = 0
    moedas0_05 = 0
    moedas0_01 = 0
    while valor > 0:
        if valor - 1 >= 0:
            valor -= 1
            moedas1 += 1
        elif valor - 0.5 >= 0:
            valor -= 0.5
            moedas0_50 += 1
        elif valor - 0.25 >= 0:
            valor -= 0.5
            moedas0_25 += 1
        elif valor - 0.10 >= 0:
            valor -= 0.10
            moedas0_10 += 1
        elif valor - 0.05 >= 0:
            valor -= 0.05
            moedas0_05 += 1
        elif valor - 0.1 >= 0:
            valor -= 0.1
            moedas0_01 += 1
    print('1,00 * {}'.format(moedas1))
    print('0,50 * {}'.format(moedas0_50))
    print('0,25 * {}'.format(moedas0_25))
    print('0,10 * {}'.format(moedas0_10))
    print('0,05 * {}'.format(moedas0_05))
    print('0,01 * {}'.format(moedas0_01))

recebeN = int(input('digite um numero inteiro:'))
retorno = fatorial(recebeN)
print('fatorial = {}'.format(retorno))
lista = []
for i in range(0, 10):
    lista.append(fatorial(i));

pprint.pprint(lista)
pprint.pprint(list(reversed(lista)))

valorMonetario = float(input('digite um valor: '))
imprimeMinimo(valorMonetario)
